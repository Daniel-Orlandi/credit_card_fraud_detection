{
 "cells": [
  {
   "cell_type": "code",
   "execution_count": 3,
   "metadata": {},
   "outputs": [
    {
     "name": "stdout",
     "output_type": "stream",
     "text": [
      "Connected:\n",
      " test_table\n"
     ]
    }
   ],
   "source": [
    "import pandas\n",
    "from core.dataHandler import DataHandler\n",
    "\n",
    "data_handler = DataHandler\n",
    "engine = data_handler.db_connect(db_url = \"mysql+pymysql://root:secret@db:3306/my_db\")"
   ]
  },
  {
   "cell_type": "code",
   "execution_count": 5,
   "metadata": {},
   "outputs": [
    {
     "name": "stdout",
     "output_type": "stream",
     "text": [
      "<class 'pandas.core.frame.DataFrame'>\n",
      "RangeIndex: 100 entries, 0 to 99\n",
      "Columns: 201 entries, t0 to Classes\n",
      "dtypes: float64(200), int64(1)\n",
      "memory usage: 157.2 KB\n"
     ]
    }
   ],
   "source": [
    "#Reading data from table\n",
    "dataframe = pandas.read_csv('data/db.csv')\n",
    "\n",
    "#Checking dataframe\n",
    "dataframe.info()"
   ]
  },
  {
   "cell_type": "code",
   "execution_count": 9,
   "metadata": {},
   "outputs": [
    {
     "data": {
      "text/plain": [
       "t0         0\n",
       "t1         0\n",
       "t2         0\n",
       "t3         0\n",
       "t4         0\n",
       "          ..\n",
       "t196       0\n",
       "t197       0\n",
       "t198       0\n",
       "t199       0\n",
       "Classes    0\n",
       "Length: 201, dtype: int64"
      ]
     },
     "execution_count": 9,
     "metadata": {},
     "output_type": "execute_result"
    }
   ],
   "source": [
    "# Checking for null values\n",
    "dataframe.isnull().sum()"
   ]
  },
  {
   "cell_type": "code",
   "execution_count": 10,
   "metadata": {},
   "outputs": [
    {
     "data": {
      "text/plain": [
       "array([1, 2, 3, 4, 5, 6, 7])"
      ]
     },
     "execution_count": 10,
     "metadata": {},
     "output_type": "execute_result"
    }
   ],
   "source": [
    "#Checking number of classes\n",
    "dataframe['Classes'].unique()\n"
   ]
  },
  {
   "cell_type": "code",
   "execution_count": null,
   "metadata": {},
   "outputs": [],
   "source": [
    "#addind data to db\n",
    "data_handler.add_data_to_db(dataframe, name='TRANSIENT_DATA', con=engine, if_exists='replace', index=False)"
   ]
  }
 ],
 "metadata": {
  "kernelspec": {
   "display_name": "Python 3",
   "language": "python",
   "name": "python3"
  },
  "orig_nbformat": 4
 },
 "nbformat": 4,
 "nbformat_minor": 2
}
